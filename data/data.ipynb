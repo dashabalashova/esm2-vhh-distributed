{
 "cells": [
  {
   "cell_type": "code",
   "execution_count": 1,
   "id": "7556da52-962a-4572-b5de-1ee4bbc3eda3",
   "metadata": {},
   "outputs": [],
   "source": [
    "import polars as pl\n",
    "\n",
    "splits = {'train': 'train.csv', 'validation': 'valid.csv'}\n",
    "df = pl.read_csv('hf://datasets/COGNANO/VHHCorpus-2M/' + splits['train'])\n",
    "\n",
    "df2 = df.with_columns(n_cys=pl.col('VHH_sequence').str.count_matches('C'), \n",
    "                      n_glycosilations=pl.col('VHH_sequence').str.count_matches('N[^P][TS]')).select(\n",
    "    sequence=pl.col('VHH_sequence'), suitable_for_expression=pl.all_horizontal(pl.col('n_glycosilations')==0, \n",
    "                                                                               pl.col('n_cys') == 2))\n",
    "\n",
    "df2 = df2.lazy().with_columns(pl.col(\"suitable_for_expression\").cast(int).alias(\"target\")).collect()\n",
    "df2 = df2[['sequence', 'target']]\n",
    "df2.write_csv('llama_2M.tsv', separator='\\t')\n"
   ]
  },
  {
   "cell_type": "code",
   "execution_count": 2,
   "id": "ffc7bd22-7e8d-4eb0-974d-7281e36da602",
   "metadata": {},
   "outputs": [
    {
     "data": {
      "text/html": [
       "<div><style>\n",
       ".dataframe > thead > tr,\n",
       ".dataframe > tbody > tr {\n",
       "  text-align: right;\n",
       "  white-space: pre-wrap;\n",
       "}\n",
       "</style>\n",
       "<small>shape: (2, 2)</small><table border=\"1\" class=\"dataframe\"><thead><tr><th>target</th><th>count</th></tr><tr><td>i64</td><td>u32</td></tr></thead><tbody><tr><td>0</td><td>834119</td></tr><tr><td>1</td><td>1165881</td></tr></tbody></table></div>"
      ],
      "text/plain": [
       "shape: (2, 2)\n",
       "┌────────┬─────────┐\n",
       "│ target ┆ count   │\n",
       "│ ---    ┆ ---     │\n",
       "│ i64    ┆ u32     │\n",
       "╞════════╪═════════╡\n",
       "│ 0      ┆ 834119  │\n",
       "│ 1      ┆ 1165881 │\n",
       "└────────┴─────────┘"
      ]
     },
     "execution_count": 2,
     "metadata": {},
     "output_type": "execute_result"
    }
   ],
   "source": [
    "df2.get_column('target').value_counts()"
   ]
  },
  {
   "cell_type": "code",
   "execution_count": 3,
   "id": "1af63d8e-0837-4d31-8c0f-6e9fc832889e",
   "metadata": {},
   "outputs": [],
   "source": [
    "df2.sample(n=2000, seed=0).write_csv('llama_2K.tsv', separator='\\t')\n",
    "df2.sample(n=200000, seed=0).write_csv('llama_200K.tsv', separator='\\t')"
   ]
  },
  {
   "cell_type": "code",
   "execution_count": 4,
   "id": "b590d87c-b769-4107-bd64-5f6ac13efefd",
   "metadata": {},
   "outputs": [
    {
     "data": {
      "text/html": [
       "<div><style>\n",
       ".dataframe > thead > tr,\n",
       ".dataframe > tbody > tr {\n",
       "  text-align: right;\n",
       "  white-space: pre-wrap;\n",
       "}\n",
       "</style>\n",
       "<small>shape: (2, 2)</small><table border=\"1\" class=\"dataframe\"><thead><tr><th>target</th><th>count</th></tr><tr><td>i64</td><td>u32</td></tr></thead><tbody><tr><td>1</td><td>121</td></tr><tr><td>0</td><td>79</td></tr></tbody></table></div>"
      ],
      "text/plain": [
       "shape: (2, 2)\n",
       "┌────────┬───────┐\n",
       "│ target ┆ count │\n",
       "│ ---    ┆ ---   │\n",
       "│ i64    ┆ u32   │\n",
       "╞════════╪═══════╡\n",
       "│ 1      ┆ 121   │\n",
       "│ 0      ┆ 79    │\n",
       "└────────┴───────┘"
      ]
     },
     "execution_count": 4,
     "metadata": {},
     "output_type": "execute_result"
    }
   ],
   "source": [
    "df2.sample(n=200, seed=0).get_column('target').value_counts()"
   ]
  },
  {
   "cell_type": "code",
   "execution_count": 5,
   "id": "57d6413d-6b38-4517-a449-34eccb805164",
   "metadata": {},
   "outputs": [
    {
     "data": {
      "text/html": [
       "<div><style>\n",
       ".dataframe > thead > tr,\n",
       ".dataframe > tbody > tr {\n",
       "  text-align: right;\n",
       "  white-space: pre-wrap;\n",
       "}\n",
       "</style>\n",
       "<small>shape: (5, 2)</small><table border=\"1\" class=\"dataframe\"><thead><tr><th>sequence</th><th>target</th></tr><tr><td>str</td><td>i64</td></tr></thead><tbody><tr><td>&quot;MKYLLPTAAAGLLLLAAQPAMAQVQLQESG…</td><td>1</td></tr><tr><td>&quot;MKYLLPTAAAGLLLLAAQPAMAQVQLQESG…</td><td>1</td></tr><tr><td>&quot;MKYLLPTAAAGLLLLAAQPAMAQVQLQESG…</td><td>1</td></tr><tr><td>&quot;MKYLLPTAAAGLLLLAAQPAMAQAQLQESG…</td><td>1</td></tr><tr><td>&quot;MKYLLPTAAAGLLLLAAQPAMAQVQLQESG…</td><td>0</td></tr></tbody></table></div>"
      ],
      "text/plain": [
       "shape: (5, 2)\n",
       "┌─────────────────────────────────┬────────┐\n",
       "│ sequence                        ┆ target │\n",
       "│ ---                             ┆ ---    │\n",
       "│ str                             ┆ i64    │\n",
       "╞═════════════════════════════════╪════════╡\n",
       "│ MKYLLPTAAAGLLLLAAQPAMAQVQLQESG… ┆ 1      │\n",
       "│ MKYLLPTAAAGLLLLAAQPAMAQVQLQESG… ┆ 1      │\n",
       "│ MKYLLPTAAAGLLLLAAQPAMAQVQLQESG… ┆ 1      │\n",
       "│ MKYLLPTAAAGLLLLAAQPAMAQAQLQESG… ┆ 1      │\n",
       "│ MKYLLPTAAAGLLLLAAQPAMAQVQLQESG… ┆ 0      │\n",
       "└─────────────────────────────────┴────────┘"
      ]
     },
     "execution_count": 5,
     "metadata": {},
     "output_type": "execute_result"
    }
   ],
   "source": [
    "df2.sample(n=2000, seed=0).head()"
   ]
  }
 ],
 "metadata": {
  "kernelspec": {
   "display_name": "esm2-llama",
   "language": "python",
   "name": "esm2-llama"
  },
  "language_info": {
   "codemirror_mode": {
    "name": "ipython",
    "version": 3
   },
   "file_extension": ".py",
   "mimetype": "text/x-python",
   "name": "python",
   "nbconvert_exporter": "python",
   "pygments_lexer": "ipython3",
   "version": "3.9.6"
  }
 },
 "nbformat": 4,
 "nbformat_minor": 5
}
